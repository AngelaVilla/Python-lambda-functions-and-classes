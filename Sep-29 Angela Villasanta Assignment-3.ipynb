{
 "cells": [
  {
   "cell_type": "markdown",
   "id": "fc7f1929",
   "metadata": {},
   "source": [
    "1) Write a lambda expression to get the product of two numbers.\n",
    "\n",
    "Run test for expression(5,6)\n",
    "\n",
    "Output : 30"
   ]
  },
  {
   "cell_type": "code",
   "execution_count": 165,
   "id": "29d38fc0",
   "metadata": {},
   "outputs": [
    {
     "data": {
      "text/plain": [
       "30"
      ]
     },
     "execution_count": 165,
     "metadata": {},
     "output_type": "execute_result"
    }
   ],
   "source": [
    "multiplier = lambda num1,num2: num1*num2\n",
    "multiplier(5,6)"
   ]
  },
  {
   "cell_type": "markdown",
   "id": "6cf81f50",
   "metadata": {},
   "source": [
    "2) Write a function to get the area of a circle from the radius. \n",
    "Hint: remember to import the right module for being able to calculate the area of the circle. \n",
    "\n",
    "Run test for function(10) \n",
    "\n",
    "Output: 314.1592653589793"
   ]
  },
  {
   "cell_type": "code",
   "execution_count": 166,
   "id": "294caee6",
   "metadata": {},
   "outputs": [
    {
     "name": "stdout",
     "output_type": "stream",
     "text": [
      "Input your radius here: 10\n",
      "The area of this circle is: 314.1592653589793\n"
     ]
    }
   ],
   "source": [
    "from math import pi\n",
    "radius = int(input(\"Input your radius here: \"))\n",
    "radius = pi * (radius**2)\n",
    "print(\"The area of this circle is:\", radius)"
   ]
  },
  {
   "cell_type": "markdown",
   "id": "c9d3b9ce",
   "metadata": {},
   "source": [
    "3) Build a simple calculator which can: add, subtract, multiply, divide.\n",
    "\n",
    "*Hint: solve by writing a function that takes as argument two numbers and the operation and returns the desired output.* \n",
    "\n",
    "Run test for function(2,5,’d’) \n",
    "\n",
    "Output: 0.4"
   ]
  },
  {
   "cell_type": "code",
   "execution_count": 167,
   "id": "2db44487",
   "metadata": {
    "scrolled": true
   },
   "outputs": [
    {
     "data": {
      "text/plain": [
       "0.4"
      ]
     },
     "execution_count": 167,
     "metadata": {},
     "output_type": "execute_result"
    }
   ],
   "source": [
    "def simple_calculator(firstNum, secondNum, operation):    \n",
    "    \n",
    "    # 4 operations for this one, order of input of firstNum & secondNum matters\n",
    "    divide = firstNum / secondNum\n",
    "    multiply = firstNum * secondNum\n",
    "    add = firstNum + secondNum\n",
    "    subtract = firstNum - secondNum\n",
    "\n",
    "    if operation == 'd': \n",
    "        return divide\n",
    "    elif operation == 'm':\n",
    "        return multiply\n",
    "    elif operation == 'a':\n",
    "        return add\n",
    "    elif operation == 's':\n",
    "        return subtract\n",
    "    else:\n",
    "        print(\"Invalid input, please recheck your arguments. The following operations are accepted: 'd','s','m','a'.\")\n",
    "    \n",
    "    \n",
    "simple_calculator(2,5,'d')"
   ]
  },
  {
   "cell_type": "markdown",
   "id": "4809472f",
   "metadata": {},
   "source": [
    "4) Define a class named Rectangle which can be constructed by a length and width. \n",
    "The Rectangle class has a method which can compute the area. \n",
    "\n",
    "Run test for \n",
    "\n",
    "          r = Rectangle(5,10) \n",
    "          r.area() \n",
    "Output: 50"
   ]
  },
  {
   "cell_type": "code",
   "execution_count": 168,
   "id": "aa1e4178",
   "metadata": {},
   "outputs": [
    {
     "data": {
      "text/plain": [
       "50"
      ]
     },
     "execution_count": 168,
     "metadata": {},
     "output_type": "execute_result"
    }
   ],
   "source": [
    "class Rectangle():\n",
    "    def __init__(self, length, width):\n",
    "        self.l = length\n",
    "        self.w = width\n",
    "        \n",
    "    def area (self):\n",
    "        return(self.l * self.w)\n",
    "        \n",
    "# Now we will run test for 5,10\n",
    "r = Rectangle(5,10)\n",
    "r.area()\n",
    "        "
   ]
  },
  {
   "cell_type": "markdown",
   "id": "00e455e4",
   "metadata": {},
   "source": [
    "5) Define a class named Shape and its subclass Square. \n",
    "\n",
    "Shape objects can be constructed by name and length has an area function which return 0 \n",
    "\n",
    "Square subclass has an init function which take a length and name as argument and has an area method and a describe method what prints the name of the Shape. \n",
    "\n",
    "Print the area from Square class. \n",
    "\n",
    "Run test for: \n",
    "    \n",
    "    s = Square('square',5) \n",
    "    print(s.area()) \n",
    "    print(s.describe()) \n",
    "\n",
    "Output: The area is: \n",
    "            \n",
    "            25 \n",
    "      \n",
    "      This is a: square"
   ]
  },
  {
   "cell_type": "code",
   "execution_count": 173,
   "id": "95908894",
   "metadata": {
    "scrolled": true
   },
   "outputs": [
    {
     "name": "stdout",
     "output_type": "stream",
     "text": [
      "The area is:\n",
      " 25 \n",
      "\n",
      "None\n",
      "This is a:  square\n",
      "None\n"
     ]
    }
   ],
   "source": [
    "class Shape():\n",
    "    def __init__(self, name, length):\n",
    "        self.n = name\n",
    "        self.l = length\n",
    "    def area (self):\n",
    "        area = 0\n",
    "        return area\n",
    "    \n",
    "class Square(Shape):\n",
    "    def __init__(self, name, length):\n",
    "        self.n = name\n",
    "        self.l = length \n",
    "    \n",
    "    \n",
    "    def area (self):\n",
    "        area = self.l ** 2\n",
    "        print(\"The area is:\\n\", area, \"\\n\")\n",
    "\n",
    "    \n",
    "    def describe(self):\n",
    "        describe = self.n\n",
    "        \n",
    "        if describe == 'square':\n",
    "            print(\"This is a: \", describe) \n",
    "        else:\n",
    "            print(\"You are not declaring a square input correctly, so you cannot use a Square subclass.\")\n",
    "\n",
    "# print test now\n",
    "s = Square('square',5) \n",
    "print(s.area())\n",
    "print(s.describe()) \n",
    "        "
   ]
  },
  {
   "cell_type": "code",
   "execution_count": null,
   "id": "b2d58fad",
   "metadata": {},
   "outputs": [],
   "source": []
  }
 ],
 "metadata": {
  "kernelspec": {
   "display_name": "Python 3 (ipykernel)",
   "language": "python",
   "name": "python3"
  },
  "language_info": {
   "codemirror_mode": {
    "name": "ipython",
    "version": 3
   },
   "file_extension": ".py",
   "mimetype": "text/x-python",
   "name": "python",
   "nbconvert_exporter": "python",
   "pygments_lexer": "ipython3",
   "version": "3.9.12"
  }
 },
 "nbformat": 4,
 "nbformat_minor": 5
}
